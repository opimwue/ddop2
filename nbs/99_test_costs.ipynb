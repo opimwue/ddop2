{
 "cells": [
  {
   "cell_type": "code",
   "execution_count": null,
   "id": "deccc8a9-8a7b-483c-9379-14db1571b689",
   "metadata": {},
   "outputs": [],
   "source": [
    "%load_ext autoreload\n",
    "%autoreload 2"
   ]
  },
  {
   "cell_type": "markdown",
   "id": "23b0c691-8934-45ac-aa8e-458b1ccdadd7",
   "metadata": {},
   "source": [
    "# Tests"
   ]
  },
  {
   "cell_type": "code",
   "execution_count": null,
   "id": "25dabb1f-c6df-41eb-8645-e2a15216ab73",
   "metadata": {},
   "outputs": [],
   "source": [
    "#| hide\n",
    "from nbdev.showdoc import *"
   ]
  },
  {
   "cell_type": "code",
   "execution_count": null,
   "id": "0043dda5-8a7b-4530-9448-0a00e38f4ee3",
   "metadata": {},
   "outputs": [
    {
     "name": "stderr",
     "output_type": "stream",
     "text": [
      "2023-08-09 22:13:41.459376: I tensorflow/core/platform/cpu_feature_guard.cc:182] This TensorFlow binary is optimized to use available CPU instructions in performance-critical operations.\n",
      "To enable the following instructions: AVX2 FMA, in other operations, rebuild TensorFlow with the appropriate compiler flags.\n",
      "2023-08-09 22:13:43.196668: W tensorflow/compiler/tf2tensorrt/utils/py_utils.cc:38] TF-TRT Warning: Could not find TensorRT\n"
     ]
    }
   ],
   "source": [
    "import unittest\n",
    "from ddop2.metrics._costs import pairwise_costs, average_costs, total_costs\n",
    "from numpy.testing import assert_array_equal"
   ]
  },
  {
   "cell_type": "markdown",
   "id": "5b161226-aa8a-4f04-b7d8-e1e28af8a962",
   "metadata": {},
   "source": [
    "## Old Unit Tests"
   ]
  },
  {
   "cell_type": "markdown",
   "id": "cb6eb384-2278-4baa-ab49-84a88876d722",
   "metadata": {},
   "source": [
    "### Check cost parameters"
   ]
  },
  {
   "cell_type": "code",
   "execution_count": null,
   "id": "916cd68b-f8e8-40a9-87d2-a158b5dbfb9b",
   "metadata": {},
   "outputs": [],
   "source": [
    "class TestCosts(unittest.TestCase):\n",
    "\n",
    "    def test_pairwise_costs(self):\n",
    "        assert_array_equal(pairwise_costs([1], [10], 1, 2), [[18]])\n",
    "        assert_array_equal(pairwise_costs([10], [1], 2, 1), [[18]])\n",
    "        assert_array_equal(pairwise_costs([1, 10], [2, 5], 1, 1), [[1], [5]])\n",
    "        assert_array_equal(pairwise_costs([1, 10], [2, 5], 2, 1), [[1], [10]])\n",
    "        assert_array_equal(pairwise_costs([1, 10], [2, 5], 1, 2), [[2], [5]])\n",
    "        # multioutput\n",
    "        assert_array_equal(pairwise_costs([[1, 10], [2, 5]], [[2, 4], [1, 8]], 1, 1), [[1, 6], [1, 3]])\n",
    "        # multioutput and differend cost coefficients\n",
    "        assert_array_equal(pairwise_costs([[1, 10], [2, 5]], [[2, 4], [1, 8]], [1, 1], [1, 2]), [[1, 6], [1, 6]])\n",
    "\n",
    "    def test_total_costs(self):\n",
    "        assert_array_equal(total_costs([1], [10], 1, 2), 18)\n",
    "        assert_array_equal(total_costs([10], [1], 2, 1), 18)\n",
    "        assert_array_equal(total_costs([1, 10], [2, 5], 1, 1), 6)\n",
    "        assert_array_equal(total_costs([1, 10], [2, 5], 2, 1), 11)\n",
    "        assert_array_equal(total_costs([1, 10], [2, 5], 1, 2), 7)\n",
    "        # multioutput\n",
    "        assert_array_equal(total_costs([[1, 10], [2, 5]], [[2, 4], [1, 8]], 1, 1, multioutput=\"cumulated\"), 11)\n",
    "        assert_array_equal(total_costs([[1, 10], [2, 5]], [[2, 4], [1, 8]], 1, 1, multioutput=\"raw_values\"), [2, 9])\n",
    "        # multioutput and differend cost coefficients\n",
    "        assert_array_equal(total_costs([[1, 10], [2, 5]], [[2, 4], [1, 8]], [1, 1], [1, 2], multioutput=\"cumulated\"),\n",
    "                           14)\n",
    "        assert_array_equal(total_costs([[1, 10], [2, 5]], [[2, 4], [1, 8]], [1, 1], [1, 2], multioutput=\"raw_values\"),\n",
    "                           [2, 12])\n",
    "\n",
    "    def test_average_costs(self):\n",
    "        assert_array_equal(average_costs([1], [10], 1, 2), 18)\n",
    "        assert_array_equal(average_costs([10], [1], 2, 1), 18)\n",
    "        assert_array_equal(average_costs([1, 10], [2, 5], 1, 1), 3)\n",
    "        assert_array_equal(average_costs([1, 10], [2, 5], 2, 1), 5.5)\n",
    "        assert_array_equal(average_costs([1, 10], [2, 5], 1, 2), 3.5)\n",
    "        # multioutput\n",
    "        assert_array_equal(average_costs([[1, 10], [2, 5]], [[2, 4], [1, 8]], 1, 1, multioutput=\"uniform_average\"), 2.75)\n",
    "        assert_array_equal(average_costs([[1, 10], [2, 5]], [[2, 4], [1, 8]], 1, 1, multioutput=\"raw_values\"), [1, 4.5])\n",
    "        # multioutput and differend cost coefficients\n",
    "        assert_array_equal(average_costs([[1, 10], [2, 5]], [[2, 4], [1, 8]], [1, 1], [1, 2], multioutput=\"uniform_average\"),\n",
    "                           3.5)\n",
    "        assert_array_equal(average_costs([[1, 10], [2, 5]], [[2, 4], [1, 8]], [1, 1], [1, 2], multioutput=\"raw_values\"),\n",
    "                           [1, 6])"
   ]
  },
  {
   "cell_type": "code",
   "execution_count": null,
   "id": "17b9daad-82f8-4369-b781-c2893c9b5652",
   "metadata": {},
   "outputs": [],
   "source": [
    "# if __name__ == '__main__':\n",
    "#     unittest.main()"
   ]
  },
  {
   "cell_type": "code",
   "execution_count": null,
   "id": "d718113d-8d02-4591-abcf-8fa61a410d20",
   "metadata": {},
   "outputs": [],
   "source": [
    "#| hide\n",
    "import nbdev; nbdev.nbdev_export()"
   ]
  },
  {
   "cell_type": "markdown",
   "id": "0998cdff-d993-4cf1-a231-eaf08554f5f8",
   "metadata": {},
   "source": [
    "## New Unit Tests"
   ]
  },
  {
   "cell_type": "markdown",
   "id": "59c947fe-1dac-4ae6-bb0f-017eab593c8e",
   "metadata": {},
   "source": [
    "As we are using nbdev, we don't need to write unit tests directly."
   ]
  },
  {
   "cell_type": "markdown",
   "id": "b9333e9a-2268-44e5-8d0b-7cfad68b736c",
   "metadata": {},
   "source": [
    "### Test Pairwise Costs"
   ]
  },
  {
   "cell_type": "code",
   "execution_count": null,
   "id": "86c3fc6a-57de-46a1-b7e1-69cd3c819225",
   "metadata": {},
   "outputs": [],
   "source": [
    "assert_array_equal(pairwise_costs([1], [10], 1, 2), [[18]])\n",
    "assert_array_equal(pairwise_costs([10], [1], 2, 1), [[18]])\n",
    "assert_array_equal(pairwise_costs([1, 10], [2, 5], 1, 1), [[1], [5]])\n",
    "assert_array_equal(pairwise_costs([1, 10], [2, 5], 2, 1), [[1], [10]])\n",
    "assert_array_equal(pairwise_costs([1, 10], [2, 5], 1, 2), [[2], [5]])\n",
    "\n",
    "# multioutput\n",
    "assert_array_equal(pairwise_costs([[1, 10], [2, 5]], [[2, 4], [1, 8]], 1, 1), [[1, 6], [1, 3]])\n",
    "\n",
    "# multioutput and differend cost coefficients\n",
    "assert_array_equal(pairwise_costs([[1, 10], [2, 5]], [[2, 4], [1, 8]], [1, 1], [1, 2]), [[1, 6], [1, 6]])"
   ]
  },
  {
   "cell_type": "markdown",
   "id": "55470dc4-dd93-4941-b1f9-ad3d79bb0004",
   "metadata": {},
   "source": [
    "### Test Total Costs"
   ]
  },
  {
   "cell_type": "code",
   "execution_count": null,
   "id": "60517199-396c-40d7-b6ff-18cd17ebe296",
   "metadata": {},
   "outputs": [],
   "source": [
    "assert_array_equal(total_costs([1], [10], 1, 2), 18)\n",
    "assert_array_equal(total_costs([10], [1], 2, 1), 18)\n",
    "assert_array_equal(total_costs([1, 10], [2, 5], 1, 1), 6)\n",
    "assert_array_equal(total_costs([1, 10], [2, 5], 2, 1), 11)\n",
    "assert_array_equal(total_costs([1, 10], [2, 5], 1, 2), 7)\n",
    "\n",
    "# multioutput\n",
    "assert_array_equal(total_costs([[1, 10], [2, 5]], [[2, 4], [1, 8]], 1, 1, multioutput=\"cumulated\"), 11)\n",
    "assert_array_equal(total_costs([[1, 10], [2, 5]], [[2, 4], [1, 8]], 1, 1, multioutput=\"raw_values\"), [2, 9])\n",
    "\n",
    "# multioutput and differend cost coefficients\n",
    "assert_array_equal(total_costs([[1, 10], [2, 5]], [[2, 4], [1, 8]], [1, 1], [1, 2], multioutput=\"cumulated\"),\n",
    "                   14)\n",
    "assert_array_equal(total_costs([[1, 10], [2, 5]], [[2, 4], [1, 8]], [1, 1], [1, 2], multioutput=\"raw_values\"),\n",
    "                   [2, 12])"
   ]
  },
  {
   "cell_type": "markdown",
   "id": "f3291138-ab54-46ff-b96c-ca1cba2ab5ef",
   "metadata": {},
   "source": [
    "### Test Average Costs"
   ]
  },
  {
   "cell_type": "code",
   "execution_count": null,
   "id": "a8f6e7c7-0dcd-4b98-b7fc-88ed9994d0f9",
   "metadata": {},
   "outputs": [],
   "source": [
    "assert_array_equal(average_costs([1], [10], 1, 2), 18)\n",
    "assert_array_equal(average_costs([10], [1], 2, 1), 18)\n",
    "assert_array_equal(average_costs([1, 10], [2, 5], 1, 1), 3)\n",
    "assert_array_equal(average_costs([1, 10], [2, 5], 2, 1), 5.5)\n",
    "assert_array_equal(average_costs([1, 10], [2, 5], 1, 2), 3.5)\n",
    "# multioutput\n",
    "assert_array_equal(average_costs([[1, 10], [2, 5]], [[2, 4], [1, 8]], 1, 1, multioutput=\"uniform_average\"), 2.75)\n",
    "assert_array_equal(average_costs([[1, 10], [2, 5]], [[2, 4], [1, 8]], 1, 1, multioutput=\"raw_values\"), [1, 4.5])\n",
    "# multioutput and differend cost coefficients\n",
    "assert_array_equal(average_costs([[1, 10], [2, 5]], [[2, 4], [1, 8]], [1, 1], [1, 2], multioutput=\"uniform_average\"),\n",
    "                   3.5)\n",
    "assert_array_equal(average_costs([[1, 10], [2, 5]], [[2, 4], [1, 8]], [1, 1], [1, 2], multioutput=\"raw_values\"),\n",
    "                   [1, 6])"
   ]
  },
  {
   "cell_type": "code",
   "execution_count": null,
   "id": "010f43d9-2c0c-4d99-ab28-e25934c70210",
   "metadata": {},
   "outputs": [],
   "source": []
  }
 ],
 "metadata": {
  "kernelspec": {
   "display_name": "dddex39",
   "language": "python",
   "name": "dddex39"
  }
 },
 "nbformat": 4,
 "nbformat_minor": 5
}
