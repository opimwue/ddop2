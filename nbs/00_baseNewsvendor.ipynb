{
 "cells": [
  {
   "cell_type": "code",
   "execution_count": null,
   "id": "deccc8a9-8a7b-483c-9379-14db1571b689",
   "metadata": {},
   "outputs": [],
   "source": [
    "%load_ext autoreload\n",
    "%autoreload 2"
   ]
  },
  {
   "cell_type": "markdown",
   "id": "23b0c691-8934-45ac-aa8e-458b1ccdadd7",
   "metadata": {},
   "source": [
    "# Base Newsvendor Classes"
   ]
  },
  {
   "cell_type": "code",
   "execution_count": null,
   "id": "5048b4c8-599d-47e6-b7bc-991945e480ef",
   "metadata": {},
   "outputs": [],
   "source": [
    "#| default_exp newsvendor._base"
   ]
  },
  {
   "cell_type": "code",
   "execution_count": null,
   "id": "88ab5d8d-67f9-4d9c-a761-b78d7c0e484a",
   "metadata": {},
   "outputs": [],
   "source": [
    "#| hide\n",
    "from nbdev.showdoc import *"
   ]
  },
  {
   "cell_type": "code",
   "execution_count": null,
   "id": "0043dda5-8a7b-4530-9448-0a00e38f4ee3",
   "metadata": {},
   "outputs": [],
   "source": [
    "#| export\n",
    "\n",
    "from sklearn.base import BaseEstimator\n",
    "from sklearn.utils.validation import check_array\n",
    "from abc import ABC, abstractmethod\n",
    "from ddop2.metrics._costs import average_costs\n",
    "import numpy as np"
   ]
  },
  {
   "cell_type": "markdown",
   "id": "cb6eb384-2278-4baa-ab49-84a88876d722",
   "metadata": {},
   "source": [
    "## Base Newsvendor Class"
   ]
  },
  {
   "cell_type": "code",
   "execution_count": null,
   "id": "916cd68b-f8e8-40a9-87d2-a158b5dbfb9b",
   "metadata": {},
   "outputs": [],
   "source": [
    "#| export\n",
    "\n",
    "class BaseNewsvendor(BaseEstimator, ABC):\n",
    "    \n",
    "    \"\"\"\n",
    "    Base class for newsvendor.\n",
    "    \"\"\"\n",
    "    \n",
    "    @abstractmethod\n",
    "    def __init__(self, cu, co):\n",
    "        self.cu = cu\n",
    "        self.co = co"
   ]
  },
  {
   "cell_type": "markdown",
   "id": "4d8e67e1-c06b-473b-bbb9-151906c538fc",
   "metadata": {},
   "source": [
    "## DataDrivenMixin Class"
   ]
  },
  {
   "cell_type": "code",
   "execution_count": null,
   "id": "a8f6e7c7-0dcd-4b98-b7fc-88ed9994d0f9",
   "metadata": {},
   "outputs": [],
   "source": [
    "#| export\n",
    "\n",
    "class DataDrivenMixin:\n",
    "    \n",
    "    _estimator_type = \"regressor\"\n",
    "    def score(self, X, y):\n",
    "        \"\"\"\n",
    "        Return the average costs of the prediction\n",
    "\n",
    "        Parameters\n",
    "        ----------\n",
    "        X : array-like of shape (n_samples, n_features)\n",
    "            The input samples to predict.\n",
    "        y : array-like of shape (n_samples, n_outputs)\n",
    "            The true values for x.\n",
    "\n",
    "        Returns\n",
    "        -------\n",
    "         score: float\n",
    "            The average costs\n",
    "        \"\"\"\n",
    "\n",
    "        y_pred = self.predict(X)\n",
    "        score = -average_costs(y, y_pred, self.cu_, self.co_, multioutput=\"uniform_average\")\n",
    "        return score"
   ]
  },
  {
   "cell_type": "markdown",
   "id": "45dfb9ce-0ebc-4659-b8d7-137c860c00e8",
   "metadata": {},
   "source": [
    "## ClassicMixin Class"
   ]
  },
  {
   "cell_type": "code",
   "execution_count": null,
   "id": "fe589e86-dd5e-472a-a1e5-c4f7ae1fc875",
   "metadata": {},
   "outputs": [],
   "source": [
    "#| export\n",
    "\n",
    "class ClassicMixin:\n",
    "    \n",
    "    _estimator_type = \"regressor\"\n",
    "    \n",
    "    def score(self, y, X=None):\n",
    "        \n",
    "        \"\"\"\n",
    "        Return the average costs of the prediction\n",
    "\n",
    "        Parameters\n",
    "        ----------\n",
    "        X : array-like of shape (n_samples, n_features)\n",
    "            Exogenous variables are ignored\n",
    "        y : array-like of shape (n_samples, n_outputs)\n",
    "            The true values.\n",
    "\n",
    "        Returns\n",
    "        -------\n",
    "         score: float\n",
    "            The average costs\n",
    "        \"\"\"\n",
    "\n",
    "        y = check_array(y, ensure_2d=False)\n",
    "\n",
    "        if y.ndim == 1:\n",
    "            y = np.reshape(y, (-1, 1))\n",
    "\n",
    "        y_pred = self.predict(y.shape[0])\n",
    "        return -average_costs(y, y_pred, self.cu_, self.co_, multioutput=\"uniform_average\")"
   ]
  },
  {
   "cell_type": "code",
   "execution_count": null,
   "id": "ff9f6546-8553-4ab4-aba2-94d5f1717376",
   "metadata": {},
   "outputs": [],
   "source": [
    "#| hide\n",
    "import nbdev; nbdev.nbdev_export()"
   ]
  }
 ],
 "metadata": {
  "kernelspec": {
   "display_name": "dddex",
   "language": "python",
   "name": "dddex"
  }
 },
 "nbformat": 4,
 "nbformat_minor": 5
}
