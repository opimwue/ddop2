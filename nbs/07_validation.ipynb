{
 "cells": [
  {
   "cell_type": "code",
   "execution_count": null,
   "id": "deccc8a9-8a7b-483c-9379-14db1571b689",
   "metadata": {},
   "outputs": [],
   "source": [
    "%load_ext autoreload\n",
    "%autoreload 2"
   ]
  },
  {
   "cell_type": "markdown",
   "id": "23b0c691-8934-45ac-aa8e-458b1ccdadd7",
   "metadata": {},
   "source": [
    "# Validation"
   ]
  },
  {
   "cell_type": "code",
   "execution_count": null,
   "id": "5048b4c8-599d-47e6-b7bc-991945e480ef",
   "metadata": {},
   "outputs": [],
   "source": [
    "#| default_exp utils.validation"
   ]
  },
  {
   "cell_type": "code",
   "execution_count": null,
   "id": "25dabb1f-c6df-41eb-8645-e2a15216ab73",
   "metadata": {},
   "outputs": [],
   "source": [
    "#| hide\n",
    "from nbdev.showdoc import *"
   ]
  },
  {
   "cell_type": "code",
   "execution_count": null,
   "id": "0043dda5-8a7b-4530-9448-0a00e38f4ee3",
   "metadata": {},
   "outputs": [],
   "source": [
    "#| export\n",
    "\n",
    "from sklearn.utils.validation import check_array\n",
    "import numpy as np\n",
    "import numbers"
   ]
  },
  {
   "cell_type": "markdown",
   "id": "cb6eb384-2278-4baa-ab49-84a88876d722",
   "metadata": {},
   "source": [
    "## Check cost parameters"
   ]
  },
  {
   "cell_type": "code",
   "execution_count": null,
   "id": "916cd68b-f8e8-40a9-87d2-a158b5dbfb9b",
   "metadata": {},
   "outputs": [],
   "source": [
    "#| export\n",
    "\n",
    "def check_cu_co(cu, co, n_outputs):\n",
    "    \n",
    "    \"\"\"Validate under- and overage costs.\n",
    "\n",
    "    Parameters\n",
    "    ----------\n",
    "    cu : {ndarray, Number or None}, shape (n_outputs,)\n",
    "       The underage costs per unit. Passing cu=None will output an array of ones.\n",
    "    co : {ndarray, Number or None}, shape (n_outputs,)\n",
    "       The overage costs per unit. Passing co=None will output an array of ones.\n",
    "    n_outputs : int\n",
    "       The number of outputs.\n",
    "    Returns\n",
    "    -------\n",
    "    cu : ndarray, shape (n_outputs,)\n",
    "       Validated underage costs. It is guaranteed to be \"C\" contiguous.\n",
    "    co : ndarray, shape (n_outputs,)\n",
    "       Validated overage costs. It is guaranteed to be \"C\" contiguous.\n",
    "    \"\"\"\n",
    "    \n",
    "    costs = [[cu, \"cu\"], [co, \"co\"]]\n",
    "    costs_validated = []\n",
    "    for c in costs:\n",
    "        if c[0] is None:\n",
    "            cost = np.ones(n_outputs, dtype=np.float64)\n",
    "        elif isinstance(c[0], numbers.Number):\n",
    "            cost = np.full(n_outputs, c[0], dtype=np.float64)\n",
    "        else:\n",
    "            cost = check_array(\n",
    "                c[0], accept_sparse=False, ensure_2d=False, dtype=np.float64,\n",
    "                order=\"C\"\n",
    "            )\n",
    "            if cost.ndim != 1:\n",
    "                raise ValueError(c[1], \"must be 1D array or scalar\")\n",
    "\n",
    "            if cost.shape != (n_outputs,):\n",
    "                raise ValueError(\"{}.shape == {}, expected {}!\"\n",
    "                                 .format(c[1], cost.shape, (n_outputs,)))\n",
    "        costs_validated.append(cost)\n",
    "    cu = costs_validated[0]\n",
    "    co = costs_validated[1]\n",
    "    return cu, co\n"
   ]
  },
  {
   "cell_type": "code",
   "execution_count": null,
   "id": "d718113d-8d02-4591-abcf-8fa61a410d20",
   "metadata": {},
   "outputs": [],
   "source": [
    "#| hide\n",
    "import nbdev; nbdev.nbdev_export()"
   ]
  },
  {
   "cell_type": "code",
   "execution_count": null,
   "id": "84786e80-9a03-42da-b266-6252859c18c5",
   "metadata": {},
   "outputs": [],
   "source": []
  },
  {
   "cell_type": "code",
   "execution_count": null,
   "id": "a8f6e7c7-0dcd-4b98-b7fc-88ed9994d0f9",
   "metadata": {},
   "outputs": [],
   "source": []
  },
  {
   "cell_type": "code",
   "execution_count": null,
   "id": "010f43d9-2c0c-4d99-ab28-e25934c70210",
   "metadata": {},
   "outputs": [],
   "source": []
  }
 ],
 "metadata": {
  "kernelspec": {
   "display_name": "dddex",
   "language": "python",
   "name": "dddex"
  }
 },
 "nbformat": 4,
 "nbformat_minor": 5
}
